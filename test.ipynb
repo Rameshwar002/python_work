{
 "cells": [
  {
   "cell_type": "code",
   "execution_count": 1,
   "id": "11d0b24d",
   "metadata": {},
   "outputs": [
    {
     "name": "stdout",
     "output_type": "stream",
     "text": [
      "hello\n"
     ]
    }
   ],
   "source": [
    "print(\"hello\")"
   ]
  },
  {
   "cell_type": "code",
   "execution_count": 2,
   "id": "f76f9e9f",
   "metadata": {},
   "outputs": [
    {
     "name": "stdout",
     "output_type": "stream",
     "text": [
      "156\n"
     ]
    }
   ],
   "source": [
    "a=12\n",
    "b=13\n",
    "c=a*b\n",
    "print(c)"
   ]
  },
  {
   "cell_type": "code",
   "execution_count": 3,
   "id": "af0392bb",
   "metadata": {},
   "outputs": [],
   "source": [
    "import pyspark\n",
    "from pyspark.sql import SparkSession\n",
    "import pandas as pd\n"
   ]
  },
  {
   "cell_type": "code",
   "execution_count": 4,
   "id": "e752c3da",
   "metadata": {},
   "outputs": [
    {
     "data": {
      "text/html": [
       "\n",
       "            <div>\n",
       "                <p><b>SparkSession - in-memory</b></p>\n",
       "                \n",
       "        <div>\n",
       "            <p><b>SparkContext</b></p>\n",
       "\n",
       "            <p><a href=\"http://Rameshwar002:4040\">Spark UI</a></p>\n",
       "\n",
       "            <dl>\n",
       "              <dt>Version</dt>\n",
       "                <dd><code>v4.0.0</code></dd>\n",
       "              <dt>Master</dt>\n",
       "                <dd><code>local[*]</code></dd>\n",
       "              <dt>AppName</dt>\n",
       "                <dd><code>Introduction to Spark</code></dd>\n",
       "            </dl>\n",
       "        </div>\n",
       "        \n",
       "            </div>\n",
       "        "
      ],
      "text/plain": [
       "<pyspark.sql.session.SparkSession at 0x12b1b5f1550>"
      ]
     },
     "execution_count": 4,
     "metadata": {},
     "output_type": "execute_result"
    }
   ],
   "source": [
    "spark = SparkSession.builder.appName(\"Introduction to Spark\").getOrCreate()\n",
    "spark"
   ]
  },
  {
   "cell_type": "code",
   "execution_count": 9,
   "id": "cf08569f",
   "metadata": {},
   "outputs": [
    {
     "data": {
      "text/plain": [
       "DataFrame[_c0: string, _c1: string, _c2: string, _c3: string, _c4: string, _c5: string, _c6: string]"
      ]
     },
     "execution_count": 9,
     "metadata": {},
     "output_type": "execute_result"
    }
   ],
   "source": [
    "df_pyspark = spark.read.csv(\"tips_mock_data_extended.csv\")\n",
    "df_pyspark"
   ]
  },
  {
   "cell_type": "code",
   "execution_count": 10,
   "id": "acbd138d",
   "metadata": {},
   "outputs": [
    {
     "name": "stdout",
     "output_type": "stream",
     "text": [
      "+----------+----+------+------+---+------+----+\n",
      "|       _c0| _c1|   _c2|   _c3|_c4|   _c5| _c6|\n",
      "+----------+----+------+------+---+------+----+\n",
      "|total_bill| tip|   sex|smoker|day|  time|size|\n",
      "|     16.99|1.01|Female|    No|Sun|Dinner|   2|\n",
      "|     10.34|1.66|  Male|    No|Sun|Dinner|   3|\n",
      "|     21.01| 3.5|  Male|    No|Sun|Dinner|   3|\n",
      "|     23.68|3.31|  Male|    No|Sun|Dinner|   2|\n",
      "+----------+----+------+------+---+------+----+\n",
      "only showing top 5 rows\n"
     ]
    }
   ],
   "source": [
    "df_pyspark.show(5)"
   ]
  },
  {
   "cell_type": "code",
   "execution_count": 11,
   "id": "5dd936bb",
   "metadata": {},
   "outputs": [
    {
     "name": "stdout",
     "output_type": "stream",
     "text": [
      "root\n",
      " |-- _c0: string (nullable = true)\n",
      " |-- _c1: string (nullable = true)\n",
      " |-- _c2: string (nullable = true)\n",
      " |-- _c3: string (nullable = true)\n",
      " |-- _c4: string (nullable = true)\n",
      " |-- _c5: string (nullable = true)\n",
      " |-- _c6: string (nullable = true)\n",
      "\n"
     ]
    }
   ],
   "source": [
    "df_pyspark.printSchema()"
   ]
  },
  {
   "cell_type": "code",
   "execution_count": 12,
   "id": "a38f2403",
   "metadata": {},
   "outputs": [
    {
     "name": "stdout",
     "output_type": "stream",
     "text": [
      "+----------+----+------+------+----+------+----+\n",
      "|total_bill| tip|   sex|smoker| day|  time|size|\n",
      "+----------+----+------+------+----+------+----+\n",
      "|     16.99|1.01|Female|    No| Sun|Dinner|   2|\n",
      "|     10.34|1.66|  Male|    No| Sun|Dinner|   3|\n",
      "|     21.01| 3.5|  Male|    No| Sun|Dinner|   3|\n",
      "|     23.68|3.31|  Male|    No| Sun|Dinner|   2|\n",
      "|     27.73| 7.3|  Male|   Yes|Thur| Lunch|   3|\n",
      "+----------+----+------+------+----+------+----+\n",
      "only showing top 5 rows\n"
     ]
    }
   ],
   "source": [
    "df_pyspark = spark.read.csv(\"tips_mock_data_extended.csv\", header=True,inferSchema=True)\n",
    "df_pyspark.show(5)"
   ]
  },
  {
   "cell_type": "code",
   "execution_count": 13,
   "id": "785adee2",
   "metadata": {},
   "outputs": [
    {
     "name": "stdout",
     "output_type": "stream",
     "text": [
      "root\n",
      " |-- total_bill: double (nullable = true)\n",
      " |-- tip: double (nullable = true)\n",
      " |-- sex: string (nullable = true)\n",
      " |-- smoker: string (nullable = true)\n",
      " |-- day: string (nullable = true)\n",
      " |-- time: string (nullable = true)\n",
      " |-- size: integer (nullable = true)\n",
      "\n"
     ]
    }
   ],
   "source": [
    "df_pyspark.printSchema()"
   ]
  },
  {
   "cell_type": "code",
   "execution_count": 14,
   "id": "9f13e541",
   "metadata": {},
   "outputs": [
    {
     "data": {
      "text/plain": [
       "pyspark.sql.classic.dataframe.DataFrame"
      ]
     },
     "execution_count": 14,
     "metadata": {},
     "output_type": "execute_result"
    }
   ],
   "source": [
    "type(df_pyspark)"
   ]
  },
  {
   "cell_type": "code",
   "execution_count": 15,
   "id": "9f93db27",
   "metadata": {},
   "outputs": [
    {
     "data": {
      "text/plain": [
       "['total_bill', 'tip', 'sex', 'smoker', 'day', 'time', 'size']"
      ]
     },
     "execution_count": 15,
     "metadata": {},
     "output_type": "execute_result"
    }
   ],
   "source": [
    "df_pyspark.columns"
   ]
  },
  {
   "cell_type": "code",
   "execution_count": 16,
   "id": "c66b7ac5",
   "metadata": {},
   "outputs": [
    {
     "data": {
      "text/plain": [
       "[Row(total_bill=16.99, tip=1.01, sex='Female', smoker='No', day='Sun', time='Dinner', size=2),\n",
       " Row(total_bill=10.34, tip=1.66, sex='Male', smoker='No', day='Sun', time='Dinner', size=3),\n",
       " Row(total_bill=21.01, tip=3.5, sex='Male', smoker='No', day='Sun', time='Dinner', size=3)]"
      ]
     },
     "execution_count": 16,
     "metadata": {},
     "output_type": "execute_result"
    }
   ],
   "source": [
    "df_pyspark.head(3)"
   ]
  },
  {
   "cell_type": "code",
   "execution_count": 17,
   "id": "3ee322c7",
   "metadata": {},
   "outputs": [
    {
     "name": "stdout",
     "output_type": "stream",
     "text": [
      "+------+\n",
      "|   sex|\n",
      "+------+\n",
      "|Female|\n",
      "|  Male|\n",
      "+------+\n",
      "only showing top 2 rows\n"
     ]
    }
   ],
   "source": [
    "df_pyspark.select(\"sex\").show(2)"
   ]
  },
  {
   "cell_type": "code",
   "execution_count": 19,
   "id": "f45cbf6c",
   "metadata": {},
   "outputs": [
    {
     "name": "stdout",
     "output_type": "stream",
     "text": [
      "+----+------+\n",
      "| tip|   sex|\n",
      "+----+------+\n",
      "|1.01|Female|\n",
      "|1.66|  Male|\n",
      "| 3.5|  Male|\n",
      "+----+------+\n",
      "only showing top 3 rows\n"
     ]
    }
   ],
   "source": [
    "df_pyspark.select([\"tip\",\"sex\"]).show(3)"
   ]
  },
  {
   "cell_type": "code",
   "execution_count": 20,
   "id": "c2c749fb",
   "metadata": {},
   "outputs": [
    {
     "name": "stdout",
     "output_type": "stream",
     "text": [
      "+----+------+\n",
      "| tip|   sex|\n",
      "+----+------+\n",
      "|1.01|Female|\n",
      "|1.66|  Male|\n",
      "| 3.5|  Male|\n",
      "|3.31|  Male|\n",
      "| 7.3|  Male|\n",
      "+----+------+\n",
      "only showing top 5 rows\n"
     ]
    }
   ],
   "source": [
    "df_pyspark.select([df_pyspark[1],df_pyspark[2]]).show(5)"
   ]
  },
  {
   "cell_type": "code",
   "execution_count": 21,
   "id": "1e9a6934",
   "metadata": {},
   "outputs": [
    {
     "name": "stdout",
     "output_type": "stream",
     "text": [
      "+-------+------------------+------------------+------+------+----+------+------------------+\n",
      "|summary|        total_bill|               tip|   sex|smoker| day|  time|              size|\n",
      "+-------+------------------+------------------+------+------+----+------+------------------+\n",
      "|  count|                50|                50|    50|    50|  50|    50|                50|\n",
      "|   mean|28.113199999999996| 5.259599999999999|  NULL|  NULL|NULL|  NULL|              3.86|\n",
      "| stddev|13.149736156272938|2.7128416910716195|  NULL|  NULL|NULL|  NULL|1.8071287407692582|\n",
      "|    min|              5.84|              1.01|Female|    No| Fri|Dinner|                 1|\n",
      "|    max|             49.59|              9.94|  Male|   Yes|Thur| Lunch|                 6|\n",
      "+-------+------------------+------------------+------+------+----+------+------------------+\n",
      "\n"
     ]
    }
   ],
   "source": [
    "df_pyspark.describe().show()"
   ]
  },
  {
   "cell_type": "code",
   "execution_count": 25,
   "id": "4739cb7f",
   "metadata": {},
   "outputs": [
    {
     "data": {
      "text/plain": [
       "'\\nTo generate a new column, we need to use the withcolumn( ) method, \\nwhich takes the new column name as first argument and then the computation [here we computed the ratio of tip and total_bill).\\n'"
      ]
     },
     "execution_count": 25,
     "metadata": {},
     "output_type": "execute_result"
    }
   ],
   "source": [
    "###Generating a New Column\n",
    "'''\n",
    "To generate a new column, we need to use the withcolumn( ) method, \n",
    "which takes the new column name as first argument and then the computation [here we computed the ratio of tip and total_bill).\n",
    "'''"
   ]
  },
  {
   "cell_type": "code",
   "execution_count": 24,
   "id": "6fbe67b0",
   "metadata": {},
   "outputs": [
    {
     "name": "stdout",
     "output_type": "stream",
     "text": [
      "+----------+----+------+------+----+------+----+------------------+\n",
      "|total_bill| tip|   sex|smoker| day|  time|size|   tips_bill_ratio|\n",
      "+----------+----+------+------+----+------+----+------------------+\n",
      "|     16.99|1.01|Female|    No| Sun|Dinner|   2|5.9446733372572105|\n",
      "|     10.34|1.66|  Male|    No| Sun|Dinner|   3|16.054158607350097|\n",
      "|     21.01| 3.5|  Male|    No| Sun|Dinner|   3|16.658733936220845|\n",
      "|     23.68|3.31|  Male|    No| Sun|Dinner|   2| 13.97804054054054|\n",
      "|     27.73| 7.3|  Male|   Yes|Thur| Lunch|   3|26.325279480706815|\n",
      "+----------+----+------+------+----+------+----+------------------+\n",
      "only showing top 5 rows\n"
     ]
    }
   ],
   "source": [
    "df_pyspark=df_pyspark.withColumn(\"tips_bill_ratio\",(df_pyspark[\"tip\"]/df_pyspark[\"total_bill\"])*100)\n",
    "df_pyspark.show(5)"
   ]
  },
  {
   "cell_type": "code",
   "execution_count": 26,
   "id": "e00ba28b",
   "metadata": {},
   "outputs": [
    {
     "name": "stdout",
     "output_type": "stream",
     "text": [
      "+----------+----+------+------+---+------+----+\n",
      "|total_bill| tip|   sex|smoker|day|  time|size|\n",
      "+----------+----+------+------+---+------+----+\n",
      "|     16.99|1.01|Female|    No|Sun|Dinner|   2|\n",
      "|     10.34|1.66|  Male|    No|Sun|Dinner|   3|\n",
      "|     21.01| 3.5|  Male|    No|Sun|Dinner|   3|\n",
      "|     23.68|3.31|  Male|    No|Sun|Dinner|   2|\n",
      "+----------+----+------+------+---+------+----+\n",
      "only showing top 4 rows\n"
     ]
    }
   ],
   "source": [
    "df_pyspark=df_pyspark.drop(\"tips_bill_ratio\")\n",
    "df_pyspark.show(4)"
   ]
  },
  {
   "cell_type": "code",
   "execution_count": 27,
   "id": "e6e3e42d",
   "metadata": {},
   "outputs": [
    {
     "name": "stdout",
     "output_type": "stream",
     "text": [
      "+----------+----+------+------+---+------+----+\n",
      "|total_bill| tip|gender|smoker|day|  time|size|\n",
      "+----------+----+------+------+---+------+----+\n",
      "|     16.99|1.01|Female|    No|Sun|Dinner|   2|\n",
      "|     10.34|1.66|  Male|    No|Sun|Dinner|   3|\n",
      "|     21.01| 3.5|  Male|    No|Sun|Dinner|   3|\n",
      "+----------+----+------+------+---+------+----+\n",
      "only showing top 3 rows\n"
     ]
    }
   ],
   "source": [
    "df_pyspark.withColumnRenamed(\"sex\",\"gender\").show(3)"
   ]
  },
  {
   "cell_type": "code",
   "execution_count": 30,
   "id": "121227c9",
   "metadata": {},
   "outputs": [
    {
     "name": "stdout",
     "output_type": "stream",
     "text": [
      "+----------+----+------+------+----+------+----+\n",
      "|total_bill| tip|   sex|smoker| day|  time|size|\n",
      "+----------+----+------+------+----+------+----+\n",
      "|     16.99|1.01|Female|    No| Sun|Dinner|   2|\n",
      "|      NULL|NULL|  NULL|  NULL|NULL|  NULL|NULL|\n",
      "|     10.34|1.66|  Male|    No| Sun|Dinner|   3|\n",
      "|     21.01| 3.5|  Male|    No| Sun|Dinner|   3|\n",
      "|     23.68|3.31|  Male|    No| Sun|Dinner|   2|\n",
      "+----------+----+------+------+----+------+----+\n",
      "only showing top 5 rows\n"
     ]
    }
   ],
   "source": [
    "df_pyspark=spark.read.csv(\"tips_mock_data_extended.csv\",header=True,inferSchema=True)\n",
    "df_pyspark.show(5)"
   ]
  },
  {
   "cell_type": "code",
   "execution_count": 31,
   "id": "1ed54ec5",
   "metadata": {},
   "outputs": [
    {
     "name": "stdout",
     "output_type": "stream",
     "text": [
      "+----------+----+------+------+----+------+----+\n",
      "|total_bill| tip|   sex|smoker| day|  time|size|\n",
      "+----------+----+------+------+----+------+----+\n",
      "|     16.99|1.01|Female|    No| Sun|Dinner|   2|\n",
      "|     10.34|1.66|  Male|    No| Sun|Dinner|   3|\n",
      "|     21.01| 3.5|  Male|    No| Sun|Dinner|   3|\n",
      "|     23.68|3.31|  Male|    No| Sun|Dinner|   2|\n",
      "|     27.73| 7.3|  Male|   Yes|Thur| Lunch|   3|\n",
      "|     48.04|3.74|  Male|    No| Fri| Lunch|   6|\n",
      "|     16.77|1.04|Female|    No| Sun| Lunch|   6|\n",
      "|      7.17|9.07|  Male|   Yes|Thur| Lunch|   1|\n",
      "|     35.68|3.99|  Male|   Yes|Thur|Dinner|   6|\n",
      "|     42.83|1.01|  Male|   Yes|Thur|Dinner|   1|\n",
      "|     24.62|5.74|  Male|   Yes| Sun| Lunch|   5|\n",
      "|      5.96|6.59|Female|    No| Sat|Dinner|   6|\n",
      "|      8.59|2.75|  Male|    No| Fri| Lunch|   6|\n",
      "|     45.85|4.65|  Male|   Yes| Sat|Dinner|   1|\n",
      "|     24.82|1.86|Female|   Yes| Sun|Dinner|   2|\n",
      "|     32.61|3.84|  Male|    No|Thur|Dinner|   5|\n",
      "|      6.52|7.34|  Male|    No| Fri|Dinner|   6|\n",
      "|     12.55|2.89|Female|    No| Sun| Lunch|   1|\n",
      "|     26.63| 2.1|Female|    No| Sat| Lunch|   4|\n",
      "|      9.02| 2.1|  Male|   Yes| Sun|Dinner|   4|\n",
      "+----------+----+------+------+----+------+----+\n",
      "only showing top 20 rows\n"
     ]
    }
   ],
   "source": [
    "df_pyspark.na.drop().show()"
   ]
  },
  {
   "cell_type": "code",
   "execution_count": 32,
   "id": "56ac4f0d",
   "metadata": {},
   "outputs": [
    {
     "name": "stdout",
     "output_type": "stream",
     "text": [
      "+----------+----+-------+-------+-------+-------+----+\n",
      "|total_bill| tip|    sex| smoker|    day|   time|size|\n",
      "+----------+----+-------+-------+-------+-------+----+\n",
      "|     16.99|1.01| Female|     No|    Sun| Dinner|   2|\n",
      "|      NULL|NULL|missing|missing|missing|missing|NULL|\n",
      "|     10.34|1.66|   Male|     No|    Sun| Dinner|   3|\n",
      "|     21.01| 3.5|   Male|     No|    Sun| Dinner|   3|\n",
      "|     23.68|3.31|   Male|     No|    Sun| Dinner|   2|\n",
      "|     27.73| 7.3|   Male|    Yes|   Thur|  Lunch|   3|\n",
      "|     48.04|3.74|   Male|     No|    Fri|  Lunch|   6|\n",
      "|     16.77|1.04| Female|     No|    Sun|  Lunch|   6|\n",
      "|      7.17|9.07|   Male|    Yes|   Thur|  Lunch|   1|\n",
      "|     35.68|3.99|   Male|    Yes|   Thur| Dinner|   6|\n",
      "|     42.83|1.01|   Male|    Yes|   Thur| Dinner|   1|\n",
      "|     24.62|5.74|   Male|    Yes|    Sun|  Lunch|   5|\n",
      "|      5.96|6.59| Female|     No|    Sat| Dinner|   6|\n",
      "|      8.59|2.75|   Male|     No|    Fri|  Lunch|   6|\n",
      "|     45.85|4.65|   Male|    Yes|    Sat| Dinner|   1|\n",
      "|     24.82|1.86| Female|    Yes|    Sun| Dinner|   2|\n",
      "|     32.61|3.84|   Male|     No|   Thur| Dinner|   5|\n",
      "|      6.52|7.34|   Male|     No|    Fri| Dinner|   6|\n",
      "|     12.55|2.89| Female|     No|    Sun|  Lunch|   1|\n",
      "|     26.63| 2.1| Female|     No|    Sat|  Lunch|   4|\n",
      "+----------+----+-------+-------+-------+-------+----+\n",
      "only showing top 20 rows\n"
     ]
    }
   ],
   "source": [
    "df_pyspark.na.fill(\"missing\").show()"
   ]
  },
  {
   "cell_type": "code",
   "execution_count": 33,
   "id": "ae1c98b7",
   "metadata": {},
   "outputs": [
    {
     "name": "stdout",
     "output_type": "stream",
     "text": [
      "+----------+----+------+------+----+------+----+\n",
      "|total_bill| tip|   sex|smoker| day|  time|size|\n",
      "+----------+----+------+------+----+------+----+\n",
      "|     16.99|1.01|Female|    No| Sun|Dinner|   2|\n",
      "|       3.0| 3.0|  NULL|  NULL|NULL|  NULL|   3|\n",
      "|     10.34|1.66|  Male|    No| Sun|Dinner|   3|\n",
      "+----------+----+------+------+----+------+----+\n",
      "only showing top 3 rows\n"
     ]
    }
   ],
   "source": [
    "df_pyspark.na.fill(3).show(3)"
   ]
  },
  {
   "cell_type": "code",
   "execution_count": 34,
   "id": "df1256da",
   "metadata": {},
   "outputs": [
    {
     "name": "stdout",
     "output_type": "stream",
     "text": [
      "+----------+----+-------+------+-------+------+----+\n",
      "|total_bill| tip|    sex|smoker|    day|  time|size|\n",
      "+----------+----+-------+------+-------+------+----+\n",
      "|     16.99|1.01| Female|    No|    Sun|Dinner|   2|\n",
      "|      NULL|NULL|missing|  NULL|missing|  NULL|NULL|\n",
      "|     10.34|1.66|   Male|    No|    Sun|Dinner|   3|\n",
      "+----------+----+-------+------+-------+------+----+\n",
      "only showing top 3 rows\n"
     ]
    }
   ],
   "source": [
    "df_pyspark.na.fill(\"missing\",[\"day\",\"sex\"]).show(3)"
   ]
  },
  {
   "cell_type": "code",
   "execution_count": 35,
   "id": "1161ce0d",
   "metadata": {},
   "outputs": [],
   "source": [
    "from pyspark.ml.feature import Imputer"
   ]
  },
  {
   "cell_type": "code",
   "execution_count": 36,
   "id": "6921a7c7",
   "metadata": {},
   "outputs": [
    {
     "name": "stdout",
     "output_type": "stream",
     "text": [
      "+----------+----+------+------+----+------+----+------------------+-----------------+\n",
      "|total_bill| tip|   sex|smoker| day|  time|size|total_bill_imputed|      tip_imputed|\n",
      "+----------+----+------+------+----+------+----+------------------+-----------------+\n",
      "|     16.99|1.01|Female|    No| Sun|Dinner|   2|             16.99|             1.01|\n",
      "|      NULL|NULL|  NULL|  NULL|NULL|  NULL|NULL|28.113199999999996|5.259599999999999|\n",
      "|     10.34|1.66|  Male|    No| Sun|Dinner|   3|             10.34|             1.66|\n",
      "|     21.01| 3.5|  Male|    No| Sun|Dinner|   3|             21.01|              3.5|\n",
      "|     23.68|3.31|  Male|    No| Sun|Dinner|   2|             23.68|             3.31|\n",
      "+----------+----+------+------+----+------+----+------------------+-----------------+\n",
      "only showing top 5 rows\n"
     ]
    }
   ],
   "source": [
    "imputer= Imputer(\n",
    "    inputCols=[\"total_bill\",\"tip\"],\n",
    "    outputCols=[\"{}_imputed\".format(c) for c in [\"total_bill\",\"tip\"]]\n",
    "    ).setStrategy(\"mean\")\n",
    "\n",
    "imputer.fit(df_pyspark).transform(df_pyspark).show(5)"
   ]
  },
  {
   "cell_type": "code",
   "execution_count": 37,
   "id": "368a05c9",
   "metadata": {},
   "outputs": [
    {
     "name": "stdout",
     "output_type": "stream",
     "text": [
      "+----------+----+------+------+----+------+----+\n",
      "|total_bill| tip|   sex|smoker| day|  time|size|\n",
      "+----------+----+------+------+----+------+----+\n",
      "|     16.99|1.01|Female|    No| Sun|Dinner|   2|\n",
      "|     10.34|1.66|  Male|    No| Sun|Dinner|   3|\n",
      "|     16.77|1.04|Female|    No| Sun| Lunch|   6|\n",
      "|     42.83|1.01|  Male|   Yes|Thur|Dinner|   1|\n",
      "|     24.82|1.86|Female|   Yes| Sun|Dinner|   2|\n",
      "+----------+----+------+------+----+------+----+\n",
      "only showing top 5 rows\n"
     ]
    }
   ],
   "source": [
    "df_pyspark.filter(\"tip <= 2\").show(5)"
   ]
  },
  {
   "cell_type": "code",
   "execution_count": 38,
   "id": "6643a3f6",
   "metadata": {},
   "outputs": [
    {
     "name": "stdout",
     "output_type": "stream",
     "text": [
      "+----------+----+\n",
      "|total_bill| tip|\n",
      "+----------+----+\n",
      "|     16.99|1.01|\n",
      "|     10.34|1.66|\n",
      "|     16.77|1.04|\n",
      "|     42.83|1.01|\n",
      "|     24.82|1.86|\n",
      "+----------+----+\n",
      "only showing top 5 rows\n"
     ]
    }
   ],
   "source": [
    "df_pyspark.filter(\"tip <= 2\").select([\"total_bill\",\"tip\"]).show(5)"
   ]
  },
  {
   "cell_type": "code",
   "execution_count": 39,
   "id": "ea6ba180",
   "metadata": {},
   "outputs": [
    {
     "name": "stdout",
     "output_type": "stream",
     "text": [
      "+----------+----+\n",
      "|total_bill| tip|\n",
      "+----------+----+\n",
      "|     27.73| 7.3|\n",
      "|      7.17|9.07|\n",
      "|     24.62|5.74|\n",
      "|      5.96|6.59|\n",
      "|      6.52|7.34|\n",
      "+----------+----+\n",
      "only showing top 5 rows\n"
     ]
    }
   ],
   "source": [
    "df_pyspark.filter((df_pyspark[\"tip\"]<=1) | (df_pyspark[\"tip\"] >=5)).select([\"total_bill\",\"tip\"]).show(5)"
   ]
  },
  {
   "cell_type": "code",
   "execution_count": 41,
   "id": "0d4248a3",
   "metadata": {},
   "outputs": [
    {
     "name": "stdout",
     "output_type": "stream",
     "text": [
      "+----------+----+\n",
      "|total_bill| tip|\n",
      "+----------+----+\n",
      "|     21.01| 3.5|\n",
      "|     23.68|3.31|\n",
      "|     27.73| 7.3|\n",
      "|     48.04|3.74|\n",
      "|      7.17|9.07|\n",
      "+----------+----+\n",
      "only showing top 5 rows\n"
     ]
    }
   ],
   "source": [
    "### Not operation\n",
    "\n",
    "df_pyspark.filter(~(df_pyspark[\"tip\"]<=2)).select([\"total_bill\",\"tip\"]).show(5)"
   ]
  },
  {
   "cell_type": "code",
   "execution_count": 42,
   "id": "7bca5747",
   "metadata": {},
   "outputs": [
    {
     "name": "stdout",
     "output_type": "stream",
     "text": [
      "+------+-----------------+------------------+---------+\n",
      "|   sex|  sum(total_bill)|          sum(tip)|sum(size)|\n",
      "+------+-----------------+------------------+---------+\n",
      "|  NULL|             NULL|              NULL|     NULL|\n",
      "|Female|646.9899999999999|114.28000000000002|       84|\n",
      "|  Male|           758.67|148.70000000000002|      109|\n",
      "+------+-----------------+------------------+---------+\n",
      "\n"
     ]
    }
   ],
   "source": [
    "## Groupby sex and performing sum\n",
    "df_pyspark.groupBy(\"sex\").sum().show()"
   ]
  },
  {
   "cell_type": "code",
   "execution_count": 43,
   "id": "766a7838",
   "metadata": {},
   "outputs": [
    {
     "name": "stdout",
     "output_type": "stream",
     "text": [
      "+----+--------+\n",
      "| day|max(tip)|\n",
      "+----+--------+\n",
      "|Thur|    9.07|\n",
      "| Sun|    7.57|\n",
      "|NULL|    NULL|\n",
      "| Sat|    9.33|\n",
      "| Fri|    9.94|\n",
      "+----+--------+\n",
      "\n"
     ]
    }
   ],
   "source": [
    "### Group by day, max tip\n",
    "df_pyspark.groupBy(\"day\").max().select([\"day\", \"max(tip)\"]).show()\n"
   ]
  },
  {
   "cell_type": "code",
   "execution_count": 44,
   "id": "011bd074",
   "metadata": {},
   "outputs": [
    {
     "name": "stdout",
     "output_type": "stream",
     "text": [
      "+------------------+\n",
      "|          sum(tip)|\n",
      "+------------------+\n",
      "|262.97999999999996|\n",
      "+------------------+\n",
      "\n"
     ]
    }
   ],
   "source": [
    "df_pyspark.agg({\"tip\": \"sum\"}).show()"
   ]
  },
  {
   "cell_type": "code",
   "execution_count": 45,
   "id": "eb11a3b2",
   "metadata": {},
   "outputs": [
    {
     "name": "stdout",
     "output_type": "stream",
     "text": [
      "+------+------------------+---------------+\n",
      "|   sex|          sum(tip)|max(total_bill)|\n",
      "+------+------------------+---------------+\n",
      "|  NULL|              NULL|           NULL|\n",
      "|Female|114.28000000000002|          49.59|\n",
      "|  Male|148.70000000000002|          48.04|\n",
      "+------+------------------+---------------+\n",
      "\n"
     ]
    }
   ],
   "source": [
    "df_pyspark.groupBy(\"sex\").agg({\"tip\": \"sum\", \"total_bill\": \"max\"}).show()"
   ]
  },
  {
   "cell_type": "code",
   "execution_count": null,
   "id": "e7f479d6",
   "metadata": {},
   "outputs": [],
   "source": []
  }
 ],
 "metadata": {
  "kernelspec": {
   "display_name": "Python 3",
   "language": "python",
   "name": "python3"
  },
  "language_info": {
   "codemirror_mode": {
    "name": "ipython",
    "version": 3
   },
   "file_extension": ".py",
   "mimetype": "text/x-python",
   "name": "python",
   "nbconvert_exporter": "python",
   "pygments_lexer": "ipython3",
   "version": "3.11.9"
  }
 },
 "nbformat": 4,
 "nbformat_minor": 5
}
